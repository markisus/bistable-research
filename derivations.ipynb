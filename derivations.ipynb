{
 "cells": [
  {
   "cell_type": "code",
   "execution_count": 158,
   "id": "d3834c16-87b0-412e-b512-ae1bf30a75cf",
   "metadata": {},
   "outputs": [],
   "source": [
    "from IPython.display import display, Math\n",
    "import numpy as np\n",
    "from matplotlib import pyplot as plt\n",
    "from sympy import *\n",
    "\n",
    "def display_eq(lhs, rhs, label=None, eqsign=\"=\"):\n",
    "    if label is not None:\n",
    "        display(Math(f\"{lhs} {eqsign} {rhs} \\;\\; \\\\text{{({label})}}\"))\n",
    "    else:\n",
    "        # lhs and rhs are latex strings\n",
    "        display(Math(f\"{lhs} {eqsign} {rhs}\"))"
   ]
  },
  {
   "cell_type": "code",
   "execution_count": 195,
   "id": "cacf88ce-f6d4-42bb-abed-222f088836d1",
   "metadata": {},
   "outputs": [
    {
     "name": "stdout",
     "output_type": "stream",
     "text": [
      "Given the beam equations:\n"
     ]
    },
    {
     "data": {
      "text/latex": [
       "$\\displaystyle E I_{\\eta} \\frac{d^{2}}{d z^{2}} u{\\left(z \\right)} + P \\left(l - z\\right) \\phi{\\left(z \\right)} = 0 \\;\\; \\text{(S2)}$"
      ],
      "text/plain": [
       "<IPython.core.display.Math object>"
      ]
     },
     "metadata": {},
     "output_type": "display_data"
    },
    {
     "data": {
      "text/latex": [
       "$\\displaystyle - C \\frac{d}{d z} \\phi{\\left(z \\right)} + P \\left(l - z\\right) \\frac{d}{d z} u{\\left(z \\right)} - P \\left(u_{l} - u{\\left(z \\right)}\\right) = 0 \\;\\; \\text{(S3)}$"
      ],
      "text/plain": [
       "<IPython.core.display.Math object>"
      ]
     },
     "metadata": {},
     "output_type": "display_data"
    },
    {
     "name": "stdout",
     "output_type": "stream",
     "text": [
      "\n",
      "\n",
      "Taking the derivative of (S3) to get (S3')\n"
     ]
    },
    {
     "data": {
      "text/latex": [
       "$\\displaystyle - C \\frac{d^{2}}{d z^{2}} \\phi{\\left(z \\right)} + P \\left(l - z\\right) \\frac{d^{2}}{d z^{2}} u{\\left(z \\right)} = 0 \\;\\; \\text{(S3')}$"
      ],
      "text/plain": [
       "<IPython.core.display.Math object>"
      ]
     },
     "metadata": {},
     "output_type": "display_data"
    },
    {
     "name": "stdout",
     "output_type": "stream",
     "text": [
      "\n",
      "\n",
      "Solving (S2) for u'' to get (S2')\n"
     ]
    },
    {
     "data": {
      "text/latex": [
       "$\\displaystyle \\frac{d^2u}{dz^2} = \\frac{P \\left(- l + z\\right) \\phi{\\left(z \\right)}}{E I_{\\eta}} \\;\\; \\text{(S2')}$"
      ],
      "text/plain": [
       "<IPython.core.display.Math object>"
      ]
     },
     "metadata": {},
     "output_type": "display_data"
    },
    {
     "name": "stdout",
     "output_type": "stream",
     "text": [
      "\n",
      "\n",
      "Plugging in (S2') into (S3')\n"
     ]
    },
    {
     "data": {
      "text/latex": [
       "$\\displaystyle C \\frac{d^{2}}{d z^{2}} \\phi{\\left(z \\right)} + \\frac{P^{2} \\left(l - z\\right)^{2} \\phi{\\left(z \\right)}}{E I_{\\eta}} = 0 \\;\\; \\text{(S4)}$"
      ],
      "text/plain": [
       "<IPython.core.display.Math object>"
      ]
     },
     "metadata": {},
     "output_type": "display_data"
    }
   ],
   "source": [
    "E, I_eta, z, P, l, z, C, u_l = symbols(r\"E, I_\\eta, z, P, l, z, C, u_l\")\n",
    "u, phi = symbols('u, \\phi', cls=Function)\n",
    "\n",
    "\n",
    "s2 = E*I_eta*diff(u(z),z,2)+P*phi(z)*(l-z)\n",
    "s3 = -C*diff(phi(z),z) +P*(l-z)*diff(u(z),z) - P*(u_l - u(z))\n",
    "\n",
    "print(\"Given the beam equations:\")\n",
    "display_eq(latex(s2), 0, label=\"S2\")\n",
    "display_eq(latex(s3), 0, label=\"S3\")\n",
    "\n",
    "print(\"\\n\\nTaking the derivative of (S3) to get (S3')\")\n",
    "ds3 = diff(s3,z)\n",
    "display_eq(latex(ds3), 0, label=\"S3'\")\n",
    "\n",
    "print(\"\\n\\nSolving (S2) for u'' to get (S2')\")\n",
    "du2_dz2 = solve(s2, diff(u(z),z,2))[0]\n",
    "display_eq(r\"\\frac{d^2u}{dz^2}\", latex(du2_dz2), \"S2'\")\n",
    "\n",
    "print(\"\\n\\nPlugging in (S2') into (S3')\")\n",
    "s4 = simplify(ds3.subs(diff(u(z),z,2), du2_dz2))*(-1)\n",
    "display_eq(latex(s4), 0, label=\"S4\")\n"
   ]
  },
  {
   "cell_type": "code",
   "execution_count": 196,
   "id": "512f8ede-6572-4944-93a6-cedb9418df05",
   "metadata": {},
   "outputs": [
    {
     "name": "stdout",
     "output_type": "stream",
     "text": [
      "Define reparameterization function\n"
     ]
    },
    {
     "data": {
      "text/latex": [
       "$\\displaystyle Z(s) = l-s$"
      ],
      "text/plain": [
       "<IPython.core.display.Math object>"
      ]
     },
     "metadata": {},
     "output_type": "display_data"
    },
    {
     "name": "stdout",
     "output_type": "stream",
     "text": [
      "\n",
      "\n",
      "Then we can reparameterize phi(z) as phi_hat(s)\n"
     ]
    },
    {
     "data": {
      "text/latex": [
       "$\\displaystyle \\hat \\phi(s) = \\phi(Z(s))$"
      ],
      "text/plain": [
       "<IPython.core.display.Math object>"
      ]
     },
     "metadata": {},
     "output_type": "display_data"
    },
    {
     "name": "stdout",
     "output_type": "stream",
     "text": [
      "\n",
      "\n",
      "By chain rule\n"
     ]
    },
    {
     "data": {
      "text/latex": [
       "$\\displaystyle \\hat \\phi'(s) = -\\phi'(Z(s)) $"
      ],
      "text/plain": [
       "<IPython.core.display.Math object>"
      ]
     },
     "metadata": {},
     "output_type": "display_data"
    },
    {
     "data": {
      "text/latex": [
       "$\\displaystyle \\hat \\phi''(s) = \\phi''(Z(s)) $"
      ],
      "text/plain": [
       "<IPython.core.display.Math object>"
      ]
     },
     "metadata": {},
     "output_type": "display_data"
    },
    {
     "name": "stdout",
     "output_type": "stream",
     "text": [
      "\n",
      "\n",
      "Redefining a constant\n"
     ]
    },
    {
     "data": {
      "text/latex": [
       "$\\displaystyle \\beta_1 = \\frac{P}{\\sqrt{E I_\\eta C}}$"
      ],
      "text/plain": [
       "<IPython.core.display.Math object>"
      ]
     },
     "metadata": {},
     "output_type": "display_data"
    },
    {
     "name": "stdout",
     "output_type": "stream",
     "text": [
      "\n",
      "\n",
      "We may rewrite (S4)\n"
     ]
    },
    {
     "data": {
      "text/latex": [
       "$\\displaystyle \\phi''(z) + \\beta_1^2 (l-z)^2 \\phi(z) = 0$"
      ],
      "text/plain": [
       "<IPython.core.display.Math object>"
      ]
     },
     "metadata": {},
     "output_type": "display_data"
    },
    {
     "data": {
      "text/latex": [
       "$\\displaystyle \\phi''(Z(s)) + \\beta_1^2 (l-Z(s))^2 \\phi(Z(s)) = 0$"
      ],
      "text/plain": [
       "<IPython.core.display.Math object>"
      ]
     },
     "metadata": {},
     "output_type": "display_data"
    },
    {
     "data": {
      "text/latex": [
       "$\\displaystyle \\phi''(Z(s)) + \\beta_1^2 s^2 \\phi(Z(s)) = 0$"
      ],
      "text/plain": [
       "<IPython.core.display.Math object>"
      ]
     },
     "metadata": {},
     "output_type": "display_data"
    },
    {
     "data": {
      "text/latex": [
       "$\\displaystyle \\hat{\\phi}''(s) + \\beta_1^2 s^2 \\hat{\\phi}(s) = 0$"
      ],
      "text/plain": [
       "<IPython.core.display.Math object>"
      ]
     },
     "metadata": {},
     "output_type": "display_data"
    },
    {
     "data": {
      "text/latex": [
       "$\\displaystyle E$"
      ],
      "text/plain": [
       "E"
      ]
     },
     "execution_count": 196,
     "metadata": {},
     "output_type": "execute_result"
    }
   ],
   "source": [
    "# Solving the diffeq\n",
    "beta_1, s = symbols(r\"\\beta_1, s\")\n",
    "phi_hat = symbols(r\"\\hat{\\phi}, Z\", cls=Function)\n",
    "\n",
    "print(\"Define reparameterization function\")\n",
    "display_eq(\"Z(s)\", \"l-s\")\n",
    "\n",
    "print(\"\\n\\nThen we can reparameterize phi(z) as phi_hat(s)\")\n",
    "display_eq(\"\\hat \\phi(s)\", r\"\\phi(Z(s))\")\n",
    "\n",
    "print(\"\\n\\nBy chain rule\")\n",
    "display_eq(\"\\hat \\phi'(s)\", r\"-\\phi'(Z(s)) \")\n",
    "display_eq(\"\\hat \\phi''(s)\", r\"\\phi''(Z(s)) \")\n",
    "\n",
    "print(\"\\n\\nRedefining a constant\")\n",
    "display_eq(r\"\\beta_1\", r\"\\frac{P}{\\sqrt{E I_\\eta C}}\")\n",
    "print(\"\\n\\nWe may rewrite (S4)\")\n",
    "display_eq(r\"\\phi''(z) + \\beta_1^2 (l-z)^2 \\phi(z)\", 0)\n",
    "display_eq(r\"\\phi''(Z(s)) + \\beta_1^2 (l-Z(s))^2 \\phi(Z(s))\", 0)\n",
    "display_eq(r\"\\phi''(Z(s)) + \\beta_1^2 s^2 \\phi(Z(s))\", 0)\n",
    "display_eq(r\"\\hat{\\phi}''(s) + \\beta_1^2 s^2 \\hat{\\phi}(s)\", 0)\n",
    "\n",
    "\n",
    "#print(\"Substituting s = l-z, beta_1=sqrt(P/E I_eta)\")\n",
    "#s4p = C * diff(phi(s), 2) + beta_1**2 * \n"
   ]
  },
  {
   "cell_type": "code",
   "execution_count": 198,
   "id": "509126bc-e274-435a-9c91-b3421c602f51",
   "metadata": {},
   "outputs": [
    {
     "name": "stdout",
     "output_type": "stream",
     "text": [
      "The solution is guessed to be the following\n"
     ]
    },
    {
     "data": {
      "text/latex": [
       "$\\displaystyle \\hat\\phi_?(s) = \\sqrt{s} \\left(A_{1} J_{\\frac{1}{4}}\\left(\\frac{\\beta_{1} s^{2}}{2}\\right) + A_{2} J_{- \\frac{1}{4}}\\left(\\frac{\\beta_{1} s^{2}}{2}\\right)\\right)$"
      ],
      "text/plain": [
       "<IPython.core.display.Math object>"
      ]
     },
     "metadata": {},
     "output_type": "display_data"
    },
    {
     "name": "stdout",
     "output_type": "stream",
     "text": [
      "\n",
      "\n",
      "To verify the solution, compute derivatives and plug into the diffeq\n"
     ]
    },
    {
     "data": {
      "text/latex": [
       "$\\displaystyle \\hat\\phi_?'(s) = \\frac{- A_{1} \\beta_{1} s^{2} J_{\\frac{5}{4}}\\left(\\frac{\\beta_{1} s^{2}}{2}\\right) + A_{1} J_{\\frac{1}{4}}\\left(\\frac{\\beta_{1} s^{2}}{2}\\right) - A_{2} \\beta_{1} s^{2} J_{\\frac{3}{4}}\\left(\\frac{\\beta_{1} s^{2}}{2}\\right)}{\\sqrt{s}}$"
      ],
      "text/plain": [
       "<IPython.core.display.Math object>"
      ]
     },
     "metadata": {},
     "output_type": "display_data"
    },
    {
     "data": {
      "text/latex": [
       "$\\displaystyle \\hat\\phi_?''(s) = \\beta_{1} \\sqrt{s} \\left(A_{1} \\beta_{1} s^{2} J_{\\frac{9}{4}}\\left(\\frac{\\beta_{1} s^{2}}{2}\\right) - 5 A_{1} J_{\\frac{5}{4}}\\left(\\frac{\\beta_{1} s^{2}}{2}\\right) + A_{2} \\beta_{1} s^{2} J_{\\frac{7}{4}}\\left(\\frac{\\beta_{1} s^{2}}{2}\\right) - 3 A_{2} J_{\\frac{3}{4}}\\left(\\frac{\\beta_{1} s^{2}}{2}\\right)\\right)$"
      ],
      "text/plain": [
       "<IPython.core.display.Math object>"
      ]
     },
     "metadata": {},
     "output_type": "display_data"
    },
    {
     "data": {
      "text/latex": [
       "$\\displaystyle \\hat\\phi_?(s) + \\beta_1 s^2 \\hat\\phi_?''(s) = 0$"
      ],
      "text/plain": [
       "<IPython.core.display.Math object>"
      ]
     },
     "metadata": {},
     "output_type": "display_data"
    },
    {
     "name": "stdout",
     "output_type": "stream",
     "text": [
      "\n",
      "\n",
      "This shows that the guess satisfies the diff eq\n"
     ]
    }
   ],
   "source": [
    "Jp = besselj(Rational(1,4), beta_1/2 * s**2)\n",
    "Jn = besselj(-Rational(1,4), beta_1/2 * s**2)\n",
    "A_1, A_2 = symbols(\"A_1, A_2\")\n",
    "\n",
    "print(\"The solution is guessed to be the following\")\n",
    "soln = sqrt(s) * (A_1 * Jp + A_2*Jn)\n",
    "display_eq(r\"\\hat\\phi_?(s)\", latex(soln))\n",
    "\n",
    "\n",
    "print(\"\\n\\nTo verify the solution, compute derivatives and plug into the diffeq\")\n",
    "dsoln = simplify(diff(soln, s))\n",
    "ddsoln = simplify(diff(dsoln, s))\n",
    "display_eq(r\"\\hat\\phi_?'(s)\", latex(dsoln))\n",
    "display_eq(r\"\\hat\\phi_?''(s)\", latex(ddsoln))\n",
    "\n",
    "check = simplify(ddsoln + beta_1**2 * s**2 * soln)\n",
    "display_eq(r\"\\hat\\phi_?(s) + \\beta_1 s^2 \\hat\\phi_?''(s)\", check)\n",
    "\n",
    "print(\"\\n\\nThis shows that the guess satisfies the diff eq\")\n"
   ]
  },
  {
   "cell_type": "code",
   "execution_count": 200,
   "id": "e2b46ad0-423d-4b34-ae92-7a29405c44f3",
   "metadata": {},
   "outputs": [
    {
     "name": "stdout",
     "output_type": "stream",
     "text": [
      "condition (S7): phi_hat(0) = 0 by symmetry with the other branch of the fish tail\n"
     ]
    },
    {
     "data": {
      "text/latex": [
       "$\\displaystyle 0 = \\hat\\phi(0) = \\frac{\\sqrt{2} A_{2}}{\\sqrt[4]{\\beta_{1}} \\Gamma\\left(\\frac{3}{4}\\right)} \\;\\; \\text{(S7)}$"
      ],
      "text/plain": [
       "<IPython.core.display.Math object>"
      ]
     },
     "metadata": {},
     "output_type": "display_data"
    },
    {
     "name": "stdout",
     "output_type": "stream",
     "text": [
      "We conclude that A2 = 0\n",
      "\n",
      "\n",
      "condition (S9): phi_hat(l) = 0 since this is the built-in end.\n"
     ]
    },
    {
     "data": {
      "text/latex": [
       "$\\displaystyle 0 = \\hat\\phi(l) = A_{1} \\sqrt{l} J_{\\frac{1}{4}}\\left(\\frac{\\beta_{1} l^{2}}{2}\\right)$"
      ],
      "text/plain": [
       "<IPython.core.display.Math object>"
      ]
     },
     "metadata": {},
     "output_type": "display_data"
    },
    {
     "name": "stdout",
     "output_type": "stream",
     "text": [
      "\n",
      "\n",
      "For a nontrivial solution, we must have\n"
     ]
    },
    {
     "data": {
      "text/latex": [
       "$\\displaystyle J_{1/4}(\\beta_1 l^2 / 2) = 0$"
      ],
      "text/plain": [
       "<IPython.core.display.Math object>"
      ]
     },
     "metadata": {},
     "output_type": "display_data"
    }
   ],
   "source": [
    "print(\"condition (S7): phi_hat(0) = 0 by symmetry with the other branch of the fish tail\")\n",
    "s7 = limit(soln, s, 0)\n",
    "display_eq(r\"0 = \\hat\\phi(0)\", latex(s7), label=\"S7\")\n",
    "print(\"We conclude that A2 = 0\")\n",
    "\n",
    "phihat_noA2 = soln.subs(A_2, 0)\n",
    "print(\"\\n\\ncondition (S9): phi_hat(l) = 0 since this is the built-in end.\")\n",
    "\n",
    "s9 = phihat_noA2.subs(s, l)\n",
    "display_eq(\"0 = \\hat\\phi(l)\", latex(s9))\n",
    "\n",
    "print(\"\\n\\nFor a nontrivial solution, we must have\")\n",
    "display_eq(r\"J_{1/4}(\\beta_1 l^2 / 2)\", 0)\n"
   ]
  },
  {
   "cell_type": "code",
   "execution_count": 176,
   "id": "c28f225a-89b2-4660-94ee-5a124a7e7bb7",
   "metadata": {},
   "outputs": [
    {
     "name": "stdout",
     "output_type": "stream",
     "text": [
      "To locate the roots of the bessel function, first we make a plot\n"
     ]
    },
    {
     "data": {
      "image/png": "[encoded data removed]",
      "text/plain": [
       "<Figure size 640x480 with 1 Axes>"
      ]
     },
     "metadata": {},
     "output_type": "display_data"
    }
   ],
   "source": [
    "print(\"To locate the roots of the bessel function, first we make a plot\")\n",
    "xs = np.linspace(0.0, 5.0, 500)\n",
    "ys = [besselj(Rational(1,4), x).evalf() for x in xs]\n",
    "zero = np.zeros(len(xs))\n",
    "plt.plot(xs, ys)\n",
    "plt.plot(xs, zero, '--', color='black')\n",
    "plt.title(r\"$J_{1/4}(x)$\")\n",
    "plt.show()"
   ]
  },
  {
   "cell_type": "code",
   "execution_count": 185,
   "id": "6ac131d5-dc37-4027-a823-5050bd12b64d",
   "metadata": {},
   "outputs": [
    {
     "name": "stdout",
     "output_type": "stream",
     "text": [
      "There are roots at 0 and around 2.7. The root at 0 leads to trivial solution P=0. So we look for the other solution\n",
      "After 100 Newton Iterations, guessed root = 2.78088772399498\n"
     ]
    }
   ],
   "source": [
    "print(\"There are roots at 0 and around 2.7. The root at 0 leads to trivial solution P=0. So we look for the other solution\")\n",
    "\n",
    "def newton_iteration(f, fprime, guess):\n",
    "    # f(guess) + delta*fprime(guess) = 0\n",
    "    # delta*fprime(guess) = -f(guess)\n",
    "    # delta = -f(guess)/fprime(guess)\n",
    "    return guess + -f(guess)/fprime(guess)\n",
    "\n",
    "f = lambda x: besselj(Rational(1,4), x).evalf()\n",
    "fprime = lambda x: diff(besselj(Rational(1,4), s), s).subs(s, x).evalf()\n",
    "\n",
    "guess = 2.7\n",
    "for i in range(100):\n",
    "    guess = newton_iteration(f, fprime, guess)\n",
    "    \n",
    "root = guess\n",
    "    \n",
    "print(f\"After {i+1} Newton Iterations, guessed root = {root}\")\n"
   ]
  },
  {
   "cell_type": "code",
   "execution_count": 201,
   "id": "ddc69576-b928-4397-b820-ad4a6c60d9d8",
   "metadata": {},
   "outputs": [
    {
     "name": "stdout",
     "output_type": "stream",
     "text": [
      "Now we have\n"
     ]
    },
    {
     "data": {
      "text/latex": [
       "$\\displaystyle \\beta_1 l^2/2 = 2.78088772399498$"
      ],
      "text/plain": [
       "<IPython.core.display.Math object>"
      ]
     },
     "metadata": {},
     "output_type": "display_data"
    },
    {
     "data": {
      "text/latex": [
       "$\\displaystyle \\frac{P}{\\sqrt{E I_\\eta C}}l^2/2 = 2.78088772399498$"
      ],
      "text/plain": [
       "<IPython.core.display.Math object>"
      ]
     },
     "metadata": {},
     "output_type": "display_data"
    },
    {
     "name": "stdout",
     "output_type": "stream",
     "text": [
      "\n",
      "\n",
      "Solving for P\n"
     ]
    },
    {
     "data": {
      "text/latex": [
       "$\\displaystyle P = \\frac{5.56177544798996 \\sqrt{C E I_{\\eta}}}{l^{2}}$"
      ],
      "text/plain": [
       "<IPython.core.display.Math object>"
      ]
     },
     "metadata": {},
     "output_type": "display_data"
    }
   ],
   "source": [
    "# Now solve for P\n",
    "print(\"Now we have\")\n",
    "display_eq(r\"\\beta_1 l^2/2\", root)\n",
    "display_eq(r\"\\frac{P}{\\sqrt{E I_\\eta C}}l^2/2\", root)\n",
    "\n",
    "print(\"\\n\\nSolving for P\")\n",
    "display_eq(r\"P\", latex((2*root) * sqrt(E* I_eta* C) / l**2))\n"
   ]
  }
 ],
 "metadata": {
  "kernelspec": {
   "display_name": "Python 3 (ipykernel)",
   "language": "python",
   "name": "python3"
  },
  "language_info": {
   "codemirror_mode": {
    "name": "ipython",
    "version": 3
   },
   "file_extension": ".py",
   "mimetype": "text/x-python",
   "name": "python",
   "nbconvert_exporter": "python",
   "pygments_lexer": "ipython3",
   "version": "3.8.10"
  }
 },
 "nbformat": 4,
 "nbformat_minor": 5
}
